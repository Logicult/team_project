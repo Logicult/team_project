{
 "cells": [
  {
   "cell_type": "code",
   "execution_count": 6,
   "metadata": {},
   "outputs": [
    {
     "name": "stdout",
     "output_type": "stream",
     "text": [
      "   Customer ID  Age Gender Item Purchased  Category  Purchase Amount (USD)  \\\n",
      "0            1   55   Male         Blouse  Clothing                     53   \n",
      "1            2   19   Male        Sweater  Clothing                     64   \n",
      "2            3   50   Male          Jeans  Clothing                     73   \n",
      "3            4   21   Male        Sandals  Footwear                     90   \n",
      "4            5   45   Male         Blouse  Clothing                     49   \n",
      "\n",
      "        Location Size      Color  Season  Review Rating Subscription Status  \\\n",
      "0       Kentucky    L       Gray  Winter            3.1                 Yes   \n",
      "1          Maine    L     Maroon  Winter            3.1                 Yes   \n",
      "2  Massachusetts    S     Maroon  Spring            3.1                 Yes   \n",
      "3   Rhode Island    M     Maroon  Spring            3.5                 Yes   \n",
      "4         Oregon    M  Turquoise  Spring            2.7                 Yes   \n",
      "\n",
      "   Shipping Type Discount Applied Promo Code Used  Previous Purchases  \\\n",
      "0        Express              Yes             Yes                  14   \n",
      "1        Express              Yes             Yes                   2   \n",
      "2  Free Shipping              Yes             Yes                  23   \n",
      "3   Next Day Air              Yes             Yes                  49   \n",
      "4  Free Shipping              Yes             Yes                  31   \n",
      "\n",
      "  Payment Method Frequency of Purchases  \n",
      "0          Venmo            Fortnightly  \n",
      "1           Cash            Fortnightly  \n",
      "2    Credit Card                 Weekly  \n",
      "3         PayPal                 Weekly  \n",
      "4         PayPal               Annually  \n",
      "<class 'pandas.core.frame.DataFrame'>\n",
      "RangeIndex: 3900 entries, 0 to 3899\n",
      "Data columns (total 18 columns):\n",
      " #   Column                  Non-Null Count  Dtype  \n",
      "---  ------                  --------------  -----  \n",
      " 0   Customer ID             3900 non-null   int64  \n",
      " 1   Age                     3900 non-null   int64  \n",
      " 2   Gender                  3900 non-null   object \n",
      " 3   Item Purchased          3900 non-null   object \n",
      " 4   Category                3900 non-null   object \n",
      " 5   Purchase Amount (USD)   3900 non-null   int64  \n",
      " 6   Location                3900 non-null   object \n",
      " 7   Size                    3900 non-null   object \n",
      " 8   Color                   3900 non-null   object \n",
      " 9   Season                  3900 non-null   object \n",
      " 10  Review Rating           3900 non-null   float64\n",
      " 11  Subscription Status     3900 non-null   object \n",
      " 12  Shipping Type           3900 non-null   object \n",
      " 13  Discount Applied        3900 non-null   object \n",
      " 14  Promo Code Used         3900 non-null   object \n",
      " 15  Previous Purchases      3900 non-null   int64  \n",
      " 16  Payment Method          3900 non-null   object \n",
      " 17  Frequency of Purchases  3900 non-null   object \n",
      "dtypes: float64(1), int64(4), object(13)\n",
      "memory usage: 548.6+ KB\n",
      "None\n"
     ]
    }
   ],
   "source": [
    "import pandas as pd\n",
    "\n",
    "thisdata = pd.read_csv(\"../data/raw/shopping_trends_updated.csv\")\n",
    "print(thisdata.head())\n",
    "print(thisdata.info())"
   ]
  },
  {
   "cell_type": "code",
   "execution_count": 7,
   "metadata": {},
   "outputs": [
    {
     "name": "stdout",
     "output_type": "stream",
     "text": [
      "Customer ID               0\n",
      "Age                       0\n",
      "Gender                    0\n",
      "Item Purchased            0\n",
      "Category                  0\n",
      "Purchase Amount (USD)     0\n",
      "Location                  0\n",
      "Size                      0\n",
      "Color                     0\n",
      "Season                    0\n",
      "Review Rating             0\n",
      "Subscription Status       0\n",
      "Shipping Type             0\n",
      "Discount Applied          0\n",
      "Promo Code Used           0\n",
      "Previous Purchases        0\n",
      "Payment Method            0\n",
      "Frequency of Purchases    0\n",
      "dtype: int64\n",
      "Customer ID                  int64\n",
      "Age                          int64\n",
      "Gender                      object\n",
      "Item Purchased              object\n",
      "Category                    object\n",
      "Purchase Amount (USD)        int64\n",
      "Location                    object\n",
      "Size                        object\n",
      "Color                       object\n",
      "Season                      object\n",
      "Review Rating              float64\n",
      "Subscription Status         object\n",
      "Shipping Type               object\n",
      "Discount Applied            object\n",
      "Promo Code Used             object\n",
      "Previous Purchases           int64\n",
      "Payment Method            category\n",
      "Frequency of Purchases    category\n",
      "dtype: object\n"
     ]
    }
   ],
   "source": [
    "# Check missing values\n",
    "print(thisdata.isnull().sum())\n",
    "\n",
    "thisdata.dropna(inplace=True)\n",
    "\n",
    "# Categorical variables\n",
    "thisdata['Payment Method'] = thisdata['Payment Method'].astype('category')\n",
    "thisdata['Frequency of Purchases'] = thisdata['Frequency of Purchases'].astype('category')\n",
    "\n",
    "print(thisdata.dtypes)"
   ]
  },
  {
   "cell_type": "code",
   "execution_count": 8,
   "metadata": {},
   "outputs": [],
   "source": [
    "# Rename columns because of space in names (BIG PROBLEM)\n",
    "thisdata.rename(columns={\n",
    "    'Purchase Amount (USD)': 'Purchase_Amount_USD',\n",
    "    'Frequency of Purchases': 'Frequency_of_Purchases',\n",
    "    'Payment Method': 'Payment_Method'\n",
    "}, inplace=True)"
   ]
  },
  {
   "cell_type": "markdown",
   "metadata": {},
   "source": [
    "PART 1. Correlation between payment method and frequency of purchases"
   ]
  },
  {
   "cell_type": "code",
   "execution_count": 9,
   "metadata": {},
   "outputs": [
    {
     "name": "stdout",
     "output_type": "stream",
     "text": [
      "Chi-square test statistic: 34.490501807370485\n",
      "p-value: 0.26165013012971255\n"
     ]
    }
   ],
   "source": [
    "from scipy.stats import chi2_contingency\n",
    "# SINCE BOTH VARIABLES PAYMENT METHOD & FREQUENY OF PURCHASES ARE CATEGORICAL VARIABLES. Hence used chi-square test.\n",
    "contingency_table = pd.crosstab(thisdata['Payment_Method'], thisdata['Frequency_of_Purchases'])\n",
    "# Chi-square\n",
    "chi2, p, dof, ex = chi2_contingency(contingency_table)\n",
    "print(\"Chi-square test statistic:\", chi2)\n",
    "print(\"p-value:\",p)"
   ]
  },
  {
   "cell_type": "markdown",
   "metadata": {},
   "source": [
    "PART 2.Correlation between payment amount and frequency of purchases."
   ]
  },
  {
   "cell_type": "code",
   "execution_count": 10,
   "metadata": {},
   "outputs": [
    {
     "name": "stdout",
     "output_type": "stream",
     "text": [
      "                                 sum_sq      df         F    PR(>F)\n",
      "C(Frequency_of_Purchases)  1.371183e+03     6.0  0.406993  0.874853\n",
      "Residual                   2.185959e+06  3893.0       NaN       NaN\n"
     ]
    }
   ],
   "source": [
    "# One variable is numeric one is categorical. Hence used ANOVA.\n",
    "\n",
    "import statsmodels.api as sm\n",
    "from statsmodels.formula.api import ols\n",
    "\n",
    "model = ols('Purchase_Amount_USD ~ C(Frequency_of_Purchases)', data=thisdata).fit()\n",
    "anova_table = sm.stats.anova_lm(model, typ=2)\n",
    "print(anova_table)"
   ]
  },
  {
   "cell_type": "markdown",
   "metadata": {},
   "source": [
    "Part 3. Correlation between payment amount and payment method."
   ]
  },
  {
   "cell_type": "code",
   "execution_count": 11,
   "metadata": {},
   "outputs": [
    {
     "name": "stdout",
     "output_type": "stream",
     "text": [
      "                         sum_sq      df         F   PR(>F)\n",
      "C(Payment_Method)  1.514203e+03     5.0  0.539506  0.74648\n",
      "Residual           2.185816e+06  3894.0       NaN      NaN\n"
     ]
    }
   ],
   "source": [
    "model = ols('Purchase_Amount_USD ~ C(Payment_Method)', data=thisdata).fit()\n",
    "anova_table = sm.stats.anova_lm(model, typ=2)\n",
    "print(anova_table)"
   ]
  },
  {
   "cell_type": "markdown",
   "metadata": {},
   "source": [
    "Hypothesis - Customer spends more money when using credit card/paypal/venmo than when using bank transfer/cash"
   ]
  },
  {
   "cell_type": "code",
   "execution_count": 12,
   "metadata": {},
   "outputs": [
    {
     "name": "stdout",
     "output_type": "stream",
     "text": [
      "Credit Card vs Bank Transfer: t-statistic = 0.2768772161162005, p-value = 0.7819190567483248\n",
      "Credit Card vs Cash: t-statistic = 0.29182924247799114, p-value = 0.7704623907835844\n",
      "PayPal vs Bank Transfer: t-statistic = -0.35027713275144834, p-value = 0.726188042230721\n",
      "PayPal vs Cash: t-statistic = -0.35536861949469034, p-value = 0.7223691755747064\n",
      "Venmo vs Bank Transfer: t-statistic = -0.5684275128089873, p-value = 0.5698473043590351\n",
      "Venmo vs Cash: t-statistic = -0.580125207015135, p-value = 0.561930564342868\n"
     ]
    }
   ],
   "source": [
    "import scipy.stats as stats\n",
    "\n",
    "credit_card = thisdata[thisdata['Payment_Method'] == 'Credit Card']['Purchase_Amount_USD']\n",
    "paypal = thisdata[thisdata['Payment_Method'] == 'PayPal']['Purchase_Amount_USD']\n",
    "venmo = thisdata[thisdata['Payment_Method'] == 'Venmo']['Purchase_Amount_USD']\n",
    "bank_transfer = thisdata[thisdata['Payment_Method'] == 'Bank Transfer']['Purchase_Amount_USD']\n",
    "cash = thisdata[thisdata['Payment_Method'] == 'Cash']['Purchase_Amount_USD']\n",
    "\n",
    "# T TEsts\n",
    "t_stat, p_value = stats.ttest_ind(credit_card, bank_transfer)\n",
    "print(f'Credit Card vs Bank Transfer: t-statistic = {t_stat}, p-value = {p_value}')\n",
    "\n",
    "t_stat, p_value = stats.ttest_ind(credit_card, cash)\n",
    "print(f'Credit Card vs Cash: t-statistic = {t_stat}, p-value = {p_value}')\n",
    "\n",
    "t_stat, p_value = stats.ttest_ind(paypal, bank_transfer)\n",
    "print(f'PayPal vs Bank Transfer: t-statistic = {t_stat}, p-value = {p_value}')\n",
    "\n",
    "t_stat, p_value = stats.ttest_ind(paypal, cash)\n",
    "print(f'PayPal vs Cash: t-statistic = {t_stat}, p-value = {p_value}')\n",
    "\n",
    "t_stat, p_value = stats.ttest_ind(venmo, bank_transfer)\n",
    "print(f'Venmo vs Bank Transfer: t-statistic = {t_stat}, p-value = {p_value}')\n",
    "\n",
    "t_stat, p_value = stats.ttest_ind(venmo, cash)\n",
    "print(f'Venmo vs Cash: t-statistic = {t_stat}, p-value = {p_value}')"
   ]
  },
  {
   "cell_type": "markdown",
   "metadata": {},
   "source": [
    "Regression analysis - Dependant variable purchase_amount_usd / Independant variables are Age, Previous Purchases, Frequecy_of_Purchases and Payment_method"
   ]
  },
  {
   "cell_type": "code",
   "execution_count": 16,
   "metadata": {},
   "outputs": [
    {
     "name": "stdout",
     "output_type": "stream",
     "text": [
      "Mean Squared Error: 559.1233236587796\n",
      "R^2 Score: -0.0033623922396965877\n",
      "                             OLS Regression Results                            \n",
      "===============================================================================\n",
      "Dep. Variable:     Purchase_Amount_USD   R-squared:                       0.001\n",
      "Model:                             OLS   Adj. R-squared:                 -0.001\n",
      "Method:                  Least Squares   F-statistic:                    0.4399\n",
      "Date:                 Sat, 22 Jun 2024   Prob (F-statistic):              0.780\n",
      "Time:                         11:42:51   Log-Likelihood:                -12515.\n",
      "No. Observations:                 2730   AIC:                         2.504e+04\n",
      "Df Residuals:                     2725   BIC:                         2.507e+04\n",
      "Df Model:                            4                                         \n",
      "Covariance Type:             nonrobust                                         \n",
      "==========================================================================================\n",
      "                             coef    std err          t      P>|t|      [0.025      0.975]\n",
      "------------------------------------------------------------------------------------------\n",
      "const                     61.9293      1.834     33.773      0.000      58.334      65.525\n",
      "Age                       -0.0249      0.030     -0.834      0.405      -0.083       0.034\n",
      "Previous Purchases         0.0120      0.031      0.382      0.703      -0.049       0.073\n",
      "Frequency_of_Purchases    -0.1598      0.227     -0.703      0.482      -0.606       0.286\n",
      "Payment_Method            -0.1895      0.268     -0.708      0.479      -0.714       0.335\n",
      "==============================================================================\n",
      "Omnibus:                     2956.831   Durbin-Watson:                   1.987\n",
      "Prob(Omnibus):                  0.000   Jarque-Bera (JB):              171.819\n",
      "Skew:                          -0.009   Prob(JB):                     4.90e-38\n",
      "Kurtosis:                       1.771   Cond. No.                         216.\n",
      "==============================================================================\n",
      "\n",
      "Notes:\n",
      "[1] Standard Errors assume that the covariance matrix of the errors is correctly specified.\n",
      "P-values of the predictors:\n",
      "const                     3.588171e-209\n",
      "Age                        4.045841e-01\n",
      "Previous Purchases         7.027272e-01\n",
      "Frequency_of_Purchases     4.822599e-01\n",
      "Payment_Method             4.787874e-01\n",
      "dtype: float64\n"
     ]
    }
   ],
   "source": [
    "import pandas as pd\n",
    "from sklearn.linear_model import LinearRegression\n",
    "import statsmodels.api as sm\n",
    "from sklearn.metrics import mean_squared_error, r2_score\n",
    "from sklearn.model_selection import train_test_split\n",
    "\n",
    "thisdata['Payment_Method'] = thisdata['Payment_Method'].astype('category')\n",
    "thisdata['Frequency_of_Purchases'] = thisdata['Frequency_of_Purchases'].astype('category')\n",
    "\n",
    "# Categorical datatype\n",
    "thisdata['Payment_Method'] = thisdata['Payment_Method'].cat.codes\n",
    "thisdata['Frequency_of_Purchases'] = thisdata['Frequency_of_Purchases'].cat.codes\n",
    "\n",
    "X = thisdata[['Age', 'Previous Purchases', 'Frequency_of_Purchases', 'Payment_Method']]\n",
    "y = thisdata['Purchase_Amount_USD']\n",
    "\n",
    "X_train, X_test, y_train, y_test = train_test_split(X, y, test_size=0.3, random_state=42)\n",
    "\n",
    "regressor = LinearRegression()\n",
    "regressor.fit(X_train, y_train)\n",
    "\n",
    "# Prediction\n",
    "y_pred = regressor.predict(X_test)\n",
    "\n",
    "# Evaluation\n",
    "mse = mean_squared_error(y_test, y_pred)\n",
    "r2 = r2_score(y_test, y_pred)\n",
    "\n",
    "print(\"Mean Squared Error:\", mse)\n",
    "print(\"R^2 Score:\", r2)\n",
    "\n",
    "# Summary\n",
    "X_train_sm = sm.add_constant(X_train)  # Adds a constant term to the predictor\n",
    "model = sm.OLS(y_train, X_train_sm).fit()\n",
    "print(model.summary())\n",
    "\n",
    "# Pvalues\n",
    "p_values = model.pvalues\n",
    "print('P-values of the predictors:')\n",
    "print(p_values)"
   ]
  }
 ],
 "metadata": {
  "kernelspec": {
   "display_name": "dsi_participant",
   "language": "python",
   "name": "python3"
  },
  "language_info": {
   "codemirror_mode": {
    "name": "ipython",
    "version": 3
   },
   "file_extension": ".py",
   "mimetype": "text/x-python",
   "name": "python",
   "nbconvert_exporter": "python",
   "pygments_lexer": "ipython3",
   "version": "3.9.15"
  }
 },
 "nbformat": 4,
 "nbformat_minor": 2
}
