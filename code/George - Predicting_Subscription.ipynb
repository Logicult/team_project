{
 "cells": [
  {
   "cell_type": "markdown",
   "id": "7b0bcac6-5086-4f4e-928a-570a9ff7ae58",
   "metadata": {},
   "source": [
    "# Predicting if a customer will subscribe service\n",
    "## Logistic Regression - sklearn\n",
    "- Target Variable： Subscription Status (Yes/No)\n",
    "- Features： Customer Age, Gender, Location, Purchase Amount, Discount Applied\n",
    "- Goal： Predict whether customers will subscribe to the service based on their attributes and purchasing behavior, and then provide advices to Marketing and Sales team.\n"
   ]
  },
  {
   "cell_type": "code",
   "execution_count": 1,
   "id": "db505fa7",
   "metadata": {},
   "outputs": [
    {
     "name": "stdout",
     "output_type": "stream",
     "text": [
      "<class 'pandas.core.frame.DataFrame'>\n",
      "RangeIndex: 3900 entries, 0 to 3899\n",
      "Data columns (total 19 columns):\n",
      " #   Column                    Non-Null Count  Dtype  \n",
      "---  ------                    --------------  -----  \n",
      " 0   Customer ID               3900 non-null   int64  \n",
      " 1   Age                       3900 non-null   int64  \n",
      " 2   Gender                    3900 non-null   object \n",
      " 3   Item Purchased            3900 non-null   object \n",
      " 4   Category                  3900 non-null   object \n",
      " 5   Purchase Amount (USD)     3900 non-null   int64  \n",
      " 6   Location                  3900 non-null   object \n",
      " 7   Size                      3900 non-null   object \n",
      " 8   Color                     3900 non-null   object \n",
      " 9   Season                    3900 non-null   object \n",
      " 10  Review Rating             3900 non-null   float64\n",
      " 11  Subscription Status       3900 non-null   object \n",
      " 12  Payment Method            3900 non-null   object \n",
      " 13  Shipping Type             3900 non-null   object \n",
      " 14  Discount Applied          3900 non-null   object \n",
      " 15  Promo Code Used           3900 non-null   object \n",
      " 16  Previous Purchases        3900 non-null   int64  \n",
      " 17  Preferred Payment Method  3900 non-null   object \n",
      " 18  Frequency of Purchases    3900 non-null   object \n",
      "dtypes: float64(1), int64(4), object(14)\n",
      "memory usage: 579.0+ KB\n",
      "None\n",
      "   Customer ID  Age Gender Item Purchased  Category  Purchase Amount (USD)  \\\n",
      "0            1   55   Male         Blouse  Clothing                     53   \n",
      "1            2   19   Male        Sweater  Clothing                     64   \n",
      "2            3   50   Male          Jeans  Clothing                     73   \n",
      "3            4   21   Male        Sandals  Footwear                     90   \n",
      "4            5   45   Male         Blouse  Clothing                     49   \n",
      "\n",
      "        Location Size      Color  Season  Review Rating Subscription Status  \\\n",
      "0       Kentucky    L       Gray  Winter            3.1                 Yes   \n",
      "1          Maine    L     Maroon  Winter            3.1                 Yes   \n",
      "2  Massachusetts    S     Maroon  Spring            3.1                 Yes   \n",
      "3   Rhode Island    M     Maroon  Spring            3.5                 Yes   \n",
      "4         Oregon    M  Turquoise  Spring            2.7                 Yes   \n",
      "\n",
      "  Payment Method  Shipping Type Discount Applied Promo Code Used  \\\n",
      "0    Credit Card        Express              Yes             Yes   \n",
      "1  Bank Transfer        Express              Yes             Yes   \n",
      "2           Cash  Free Shipping              Yes             Yes   \n",
      "3         PayPal   Next Day Air              Yes             Yes   \n",
      "4           Cash  Free Shipping              Yes             Yes   \n",
      "\n",
      "   Previous Purchases Preferred Payment Method Frequency of Purchases  \n",
      "0                  14                    Venmo            Fortnightly  \n",
      "1                   2                     Cash            Fortnightly  \n",
      "2                  23              Credit Card                 Weekly  \n",
      "3                  49                   PayPal                 Weekly  \n",
      "4                  31                   PayPal               Annually  \n"
     ]
    }
   ],
   "source": [
    "import pandas as pd\n",
    "\n",
    "# Load Date\n",
    "data = pd.read_csv('../data/raw/shopping_trends.csv')\n",
    "\n",
    "# Print Data Information\n",
    "print(data.info())\n",
    "print(data.head())\n"
   ]
  },
  {
   "cell_type": "code",
   "execution_count": 2,
   "id": "9a9bf994",
   "metadata": {},
   "outputs": [
    {
     "name": "stdout",
     "output_type": "stream",
     "text": [
      "Customer ID                 0\n",
      "Age                         0\n",
      "Gender                      0\n",
      "Item Purchased              0\n",
      "Category                    0\n",
      "Purchase Amount (USD)       0\n",
      "Location                    0\n",
      "Size                        0\n",
      "Color                       0\n",
      "Season                      0\n",
      "Review Rating               0\n",
      "Subscription Status         0\n",
      "Payment Method              0\n",
      "Shipping Type               0\n",
      "Discount Applied            0\n",
      "Promo Code Used             0\n",
      "Previous Purchases          0\n",
      "Preferred Payment Method    0\n",
      "Frequency of Purchases      0\n",
      "dtype: int64\n"
     ]
    }
   ],
   "source": [
    "# Map predicting target from bool value to int value\n",
    "data['Subscription Status'] = data['Subscription Status'].map({'Yes': 1, 'No': 0})\n",
    "\n",
    "# Verify Null Value\n",
    "print(data.isnull().sum())\n"
   ]
  },
  {
   "cell_type": "code",
   "execution_count": 3,
   "id": "47f4dcf5-0d4c-41ea-892d-d9f2c1aa1859",
   "metadata": {},
   "outputs": [
    {
     "name": "stdout",
     "output_type": "stream",
     "text": [
      "<class 'pandas.core.frame.DataFrame'>\n",
      "RangeIndex: 3900 entries, 0 to 3899\n",
      "Data columns (total 5 columns):\n",
      " #   Column                 Non-Null Count  Dtype \n",
      "---  ------                 --------------  ----- \n",
      " 0   Age                    3900 non-null   int64 \n",
      " 1   Purchase Amount (USD)  3900 non-null   int64 \n",
      " 2   Gender                 3900 non-null   object\n",
      " 3   Location               3900 non-null   object\n",
      " 4   Discount Applied       3900 non-null   object\n",
      "dtypes: int64(2), object(3)\n",
      "memory usage: 152.5+ KB\n",
      "None\n",
      "   Age  Purchase Amount (USD) Gender       Location Discount Applied\n",
      "0   55                     53   Male       Kentucky              Yes\n",
      "1   19                     64   Male          Maine              Yes\n",
      "2   50                     73   Male  Massachusetts              Yes\n",
      "3   21                     90   Male   Rhode Island              Yes\n",
      "4   45                     49   Male         Oregon              Yes\n"
     ]
    }
   ],
   "source": [
    "from sklearn.preprocessing import OneHotEncoder, StandardScaler\n",
    "from sklearn.compose import ColumnTransformer\n",
    "from sklearn.pipeline import Pipeline\n",
    "from sklearn.impute import SimpleImputer\n",
    "from sklearn.model_selection import train_test_split\n",
    "\n",
    "\n",
    "# Classsify the features for preprocessor\n",
    "numeric_features = ['Age', 'Purchase Amount (USD)']\n",
    "categorical_features = ['Gender', 'Location', 'Discount Applied']\n",
    "\n",
    "\n",
    "numeric_transformer = Pipeline(steps=[\n",
    "    ('imputer', SimpleImputer(strategy='median')),\n",
    "    ('scaler', StandardScaler())\n",
    "])\n",
    "\n",
    "categorical_transformer = Pipeline(steps=[\n",
    "    ('imputer', SimpleImputer(strategy='most_frequent')),\n",
    "    ('onehot', OneHotEncoder(handle_unknown='ignore'))\n",
    "])\n",
    "\n",
    "preprocessor = ColumnTransformer(\n",
    "    transformers=[\n",
    "        ('num', numeric_transformer, numeric_features),\n",
    "        ('cat', categorical_transformer, categorical_features)\n",
    "    ])\n",
    "\n",
    "\n",
    "# Get Train and Test dataset\n",
    "X = data[['Age', 'Purchase Amount (USD)', 'Gender', 'Location', 'Discount Applied']]\n",
    "y = data['Subscription Status']\n",
    "\n",
    "X_train, X_test, y_train, y_test = train_test_split(X, y, test_size=0.2, random_state=42)\n",
    "\n",
    "print(X.info())\n",
    "print(X.head())\n"
   ]
  },
  {
   "cell_type": "code",
   "execution_count": 4,
   "id": "f3da5483",
   "metadata": {},
   "outputs": [
    {
     "name": "stdout",
     "output_type": "stream",
     "text": [
      "Accuracy: 0.8282051282051283\n",
      "Confusion Matrix:\n",
      "[[437 121]\n",
      " [ 13 209]]\n",
      "Classification Report:\n",
      "              precision    recall  f1-score   support\n",
      "\n",
      "           0       0.97      0.78      0.87       558\n",
      "           1       0.63      0.94      0.76       222\n",
      "\n",
      "    accuracy                           0.83       780\n",
      "   macro avg       0.80      0.86      0.81       780\n",
      "weighted avg       0.87      0.83      0.84       780\n",
      "\n"
     ]
    }
   ],
   "source": [
    "from sklearn.linear_model import LogisticRegression\n",
    "from sklearn.metrics import accuracy_score, confusion_matrix, classification_report\n",
    "\n",
    "# Use LogisticRegression to build a model \n",
    "model = Pipeline(steps=[('preprocessor', preprocessor),\n",
    "                        ('classifier', LogisticRegression(max_iter=1000))])\n",
    "\n",
    "result = model.fit(X_train, y_train)\n",
    "\n",
    "y_pred = model.predict(X_test)\n",
    "\n",
    "accuracy = accuracy_score(y_test, y_pred)\n",
    "conf_matrix = confusion_matrix(y_test, y_pred)\n",
    "class_report = classification_report(y_test, y_pred)\n",
    "\n",
    "# Verify results by the Confusion Matrix and Accuracy Rate\n",
    "print(f'Accuracy: {accuracy}')\n",
    "print('Confusion Matrix:')\n",
    "print(conf_matrix)\n",
    "print('Classification Report:')\n",
    "print(class_report)"
   ]
  },
  {
   "cell_type": "markdown",
   "id": "a70ceec7",
   "metadata": {},
   "source": [
    "### Comprehensive Evaluation\n",
    "- Accuracy: 83% indicates a high overall accuracy of the model.\n",
    "- Precision: For subscribers (1) is 63%, indicating that about 63% of the samples predicted as subscribers are actually subscribers.\n",
    "- Recall: For subscribers (1) is 94%, indicating that the model correctly identified about 94% of the actual subscribers.\n",
    "- F1-Score: 76% combines precision and recall, providing a balanced measure.\n",
    "<BR>\n",
    "<BR>\n",
    "\n"
   ]
  },
  {
   "cell_type": "markdown",
   "id": "e6459f5d",
   "metadata": {},
   "source": [
    "### Utilize model prediction results for precision marketing:\n",
    "\n",
    "- We may utilize the model prediction results to segment the customers and identify the characteristics of potential subscribers and non-subscribers, and also Develop corresponding marketing strategies for different customer groups.\n",
    "\n",
    "- Subscription User Profile Analysis: Analyze the characteristics of predicted subscription users, such as age, gender, purchase amount, and purchase frequency, to understand which types of customers are more likely to subscribe.\n",
    "\n",
    "- Customized Marketing: Based on these characteristics, create personalized marketing strategies. For example, push fashionable new products to young subscribers; offer higher membership discounts and exclusive benefits to frequent buyers."
   ]
  }
 ],
 "metadata": {
  "kernelspec": {
   "display_name": "Python 3.10.4",
   "language": "python",
   "name": "python3"
  },
  "language_info": {
   "codemirror_mode": {
    "name": "ipython",
    "version": 3
   },
   "file_extension": ".py",
   "mimetype": "text/x-python",
   "name": "python",
   "nbconvert_exporter": "python",
   "pygments_lexer": "ipython3",
   "version": "3.9.15"
  },
  "vscode": {
   "interpreter": {
    "hash": "497a84dc8fec8cf8d24e7e87b6d954c9a18a327edc66feb9b9ea7e9e72cc5c7e"
   }
  }
 },
 "nbformat": 4,
 "nbformat_minor": 5
}
